{
 "cells": [
  {
   "cell_type": "markdown",
   "id": "2798a766",
   "metadata": {},
   "source": [
    "### Creating a To-do List Applicatipn"
   ]
  },
  {
   "cell_type": "code",
   "execution_count": 1,
   "id": "afa0f03b",
   "metadata": {},
   "outputs": [],
   "source": [
    "class To_Do_List:\n",
    "    def __init__(self):\n",
    "        self.tasks = []\n",
    "        \n",
    "    # Defining the methods    \n",
    "    def add_task(self, task):\n",
    "        # Add a new task\n",
    "        self.tasks.append({\"task\": task, \"completed\": False})\n",
    "        print(f\"Task '{task}' added to the list.\")\n",
    "        \n",
    "    def show_tasks(self):\n",
    "        # Display all tasks in the list\n",
    "        for i, task in enumerate(self.tasks, 1):\n",
    "            print(f\"{i}. {task['task']}\")\n",
    "    \n",
    "    def mark_task_as_completed(self, index):\n",
    "        # Mark a task as completed\n",
    "        if 0 <= index < len(self.tasks):\n",
    "            self.tasks[index][\"completed\"] = True\n",
    "    \n",
    "    def task_status(self):\n",
    "        # Display task status\n",
    "        for i, task in enumerate(self.tasks, 1):\n",
    "            status = \"✔\" if task[\"completed\"] else \"✘\"\n",
    "            print(f\"{i}. {task['task']} - Status: {status}\")\n",
    "    \n",
    "    def delete_task(self, index):\n",
    "        # Delete a task from the list\n",
    "        if 0 <= index < len(self.tasks):\n",
    "            self.tasks.pop(index)\n",
    "\n",
    "\n",
    "    \n",
    "# Creating an instance\n",
    "my_to_do_list = To_Do_List()\n"
   ]
  },
  {
   "cell_type": "markdown",
   "id": "a9420d46",
   "metadata": {},
   "source": [
    "Example Usage"
   ]
  },
  {
   "cell_type": "code",
   "execution_count": 2,
   "id": "1f4ab9b1",
   "metadata": {},
   "outputs": [
    {
     "name": "stdout",
     "output_type": "stream",
     "text": [
      "Task 'Creating powerpoint slides for my presentation' added to the list.\n",
      "Task 'Learning sports analytics' added to the list.\n",
      "Task 'learning open cv' added to the list.\n"
     ]
    }
   ],
   "source": [
    "# Adding tasks\n",
    "my_to_do_list.add_task('Creating powerpoint slides for my presentation')\n",
    "my_to_do_list.add_task ('Learning sports analytics')\n",
    "my_to_do_list.add_task('learning open cv')"
   ]
  },
  {
   "cell_type": "code",
   "execution_count": 3,
   "id": "f02265d9",
   "metadata": {},
   "outputs": [
    {
     "name": "stdout",
     "output_type": "stream",
     "text": [
      "1. Creating powerpoint slides for my presentation\n",
      "2. Learning sports analytics\n",
      "3. learning open cv\n"
     ]
    }
   ],
   "source": [
    "# Display tasks in the list\n",
    "my_to_do_list.show_tasks()"
   ]
  },
  {
   "cell_type": "code",
   "execution_count": 4,
   "id": "d7d3eca0",
   "metadata": {},
   "outputs": [],
   "source": [
    " # Marking the first task as completed\n",
    "my_to_do_list.mark_task_as_completed(0)"
   ]
  },
  {
   "cell_type": "code",
   "execution_count": 5,
   "id": "7f6d4eff",
   "metadata": {},
   "outputs": [
    {
     "name": "stdout",
     "output_type": "stream",
     "text": [
      "1. Creating powerpoint slides for my presentation - Status: ✔\n",
      "2. Learning sports analytics - Status: ✘\n",
      "3. learning open cv - Status: ✘\n"
     ]
    }
   ],
   "source": [
    "# Display task status to shiw the update\n",
    "my_to_do_list.task_status()"
   ]
  },
  {
   "cell_type": "code",
   "execution_count": 6,
   "id": "f347c99c",
   "metadata": {},
   "outputs": [],
   "source": [
    "# Deleting the third task\n",
    "my_to_do_list.delete_task(2)"
   ]
  },
  {
   "cell_type": "code",
   "execution_count": 7,
   "id": "8c02eede",
   "metadata": {},
   "outputs": [
    {
     "name": "stdout",
     "output_type": "stream",
     "text": [
      "1. Creating powerpoint slides for my presentation\n",
      "2. Learning sports analytics\n"
     ]
    }
   ],
   "source": [
    "# Display tasks again to view updates\n",
    "my_to_do_list.show_tasks()"
   ]
  },
  {
   "cell_type": "code",
   "execution_count": null,
   "id": "cfb08788",
   "metadata": {},
   "outputs": [],
   "source": []
  }
 ],
 "metadata": {
  "kernelspec": {
   "display_name": "Python 3 (ipykernel)",
   "language": "python",
   "name": "python3"
  },
  "language_info": {
   "codemirror_mode": {
    "name": "ipython",
    "version": 3
   },
   "file_extension": ".py",
   "mimetype": "text/x-python",
   "name": "python",
   "nbconvert_exporter": "python",
   "pygments_lexer": "ipython3",
   "version": "3.11.5"
  }
 },
 "nbformat": 4,
 "nbformat_minor": 5
}
